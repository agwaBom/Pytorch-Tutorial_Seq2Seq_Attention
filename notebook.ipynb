{
 "metadata": {
  "language_info": {
   "codemirror_mode": {
    "name": "ipython",
    "version": 3
   },
   "file_extension": ".py",
   "mimetype": "text/x-python",
   "name": "python",
   "nbconvert_exporter": "python",
   "pygments_lexer": "ipython3",
   "version": "3.9.2-final"
  },
  "orig_nbformat": 2,
  "kernelspec": {
   "name": "python3",
   "display_name": "Python 3.9.2 64-bit ('Pytorch-tutorial': conda)",
   "metadata": {
    "interpreter": {
     "hash": "24c39d20c7d8a09e8403c5ad1c339197858a311367e5692aa6239c07be60f346"
    }
   }
  }
 },
 "nbformat": 4,
 "nbformat_minor": 2,
 "cells": [
  {
   "cell_type": "code",
   "execution_count": 27,
   "metadata": {},
   "outputs": [
    {
     "output_type": "stream",
     "name": "stdout",
     "text": [
      "hello wor ld ! \n[[''], ['h'], ['e'], ['l'], ['l'], ['o'], [''], ['w'], ['o'], ['r'], [' '], ['l'], ['d'], [' !'], [' '], [' '], ['', '']]\n"
     ]
    }
   ],
   "source": [
    "import unicodedata\n",
    "import re\n",
    "\n",
    "def unicodeToAscii(unicode):\n",
    "    return ''.join(c for c in unicodedata.normalize('NFD', unicode) if unicodedata.category(c) != 'Mn')\n",
    "\n",
    "# Lowercase, trim, and remove non-letter characters\n",
    "def normalizeString(str):\n",
    "    str = unicodeToAscii(str.lower().strip())\n",
    "    # Support for regular expressions\n",
    "    str = re.sub(r\"([.!?])\", r\" \\1\", str)\n",
    "    str = re.sub(r\"[^a-zA-Z.!?]+\", r\" \", str)\n",
    "    return str\n",
    "lines = ' hello Wor4ld!**\\t'\n",
    "print(normalizeString(' hello Wor4ld!**\\t'))\n",
    "\n",
    "pairs = [[normalizeString(s) for s in l.split('\\t')] for l in lines]\n",
    "print(pairs)"
   ]
  },
  {
   "cell_type": "code",
   "execution_count": 28,
   "metadata": {},
   "outputs": [
    {
     "output_type": "stream",
     "name": "stdout",
     "text": [
      "[[''], ['h'], ['e'], ['l'], ['l'], ['o'], [''], ['w'], ['o'], ['r'], [' '], ['l'], ['d'], [' !'], [' '], [' '], ['', '']]\n[[''], ['h'], ['e'], ['l'], ['l'], ['o'], [''], ['w'], ['o'], ['r'], [' '], ['l'], ['d'], [' !'], [' '], [' '], ['', '']]\n"
     ]
    }
   ],
   "source": [
    "nrPairs = [list(p) for p in pairs]\n",
    "rPairs = [list(reversed(p)) for p in pairs]\n",
    "\n",
    "print(nrPairs)\n",
    "print(rPairs)"
   ]
  },
  {
   "cell_type": "code",
   "execution_count": null,
   "metadata": {},
   "outputs": [],
   "source": []
  },
  {
   "cell_type": "code",
   "execution_count": 5,
   "metadata": {},
   "outputs": [
    {
     "output_type": "stream",
     "name": "stdout",
     "text": [
      "tensor([[1., 1.],\n        [1., 1.],\n        [1., 1.],\n        [1., 1.]])\ntensor([[0.5952, 0.8660, 0.1219],\n        [0.5952, 0.8660, 0.1219],\n        [0.5952, 0.8660, 0.1219],\n        [0.5952, 0.8660, 0.1219]], grad_fn=<AddmmBackward>)\n"
     ]
    }
   ],
   "source": [
    "import torch\n",
    "import torch.nn as nn\n",
    "# https://stackoverflow.com/questions/54916135/what-is-the-class-definition-of-nn-linear-in-pytorch\n",
    "m = nn.Linear(2, 3) \n",
    "input = torch.ones(4, 2) # 4x2\n",
    "print(input)\n",
    "\n",
    "print(m(input)) # 4x3\n"
   ]
  },
  {
   "cell_type": "code",
   "execution_count": null,
   "metadata": {},
   "outputs": [],
   "source": []
  }
 ]
}