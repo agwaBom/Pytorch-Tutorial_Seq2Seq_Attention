{
 "metadata": {
  "language_info": {
   "codemirror_mode": {
    "name": "ipython",
    "version": 3
   },
   "file_extension": ".py",
   "mimetype": "text/x-python",
   "name": "python",
   "nbconvert_exporter": "python",
   "pygments_lexer": "ipython3",
   "version": "3.7.10-final"
  },
  "orig_nbformat": 2,
  "kernelspec": {
   "name": "python3",
   "display_name": "Python 3.7.10 64-bit ('OpenNMT-Study': conda)",
   "metadata": {
    "interpreter": {
     "hash": "068c66ba729910c3fd6db53eebb5b12403f116769a3282fe6b2f44fc428340e6"
    }
   }
  }
 },
 "nbformat": 4,
 "nbformat_minor": 2,
 "cells": [
  {
   "cell_type": "code",
   "execution_count": 27,
   "metadata": {},
   "outputs": [
    {
     "output_type": "stream",
     "name": "stdout",
     "text": [
      "hello wor ld ! \n[[''], ['h'], ['e'], ['l'], ['l'], ['o'], [''], ['w'], ['o'], ['r'], [' '], ['l'], ['d'], [' !'], [' '], [' '], ['', '']]\n"
     ]
    }
   ],
   "source": [
    "import unicodedata\n",
    "import re\n",
    "\n",
    "def unicodeToAscii(unicode):\n",
    "    return ''.join(c for c in unicodedata.normalize('NFD', unicode) if unicodedata.category(c) != 'Mn')\n",
    "\n",
    "# Lowercase, trim, and remove non-letter characters\n",
    "def normalizeString(str):\n",
    "    str = unicodeToAscii(str.lower().strip())\n",
    "    # Support for regular expressions\n",
    "    str = re.sub(r\"([.!?])\", r\" \\1\", str)\n",
    "    str = re.sub(r\"[^a-zA-Z.!?]+\", r\" \", str)\n",
    "    return str\n",
    "lines = ' hello Wor4ld!**\\t'\n",
    "print(normalizeString(' hello Wor4ld!**\\t'))\n",
    "\n",
    "pairs = [[normalizeString(s) for s in l.split('\\t')] for l in lines]\n",
    "print(pairs)"
   ]
  },
  {
   "cell_type": "code",
   "execution_count": 28,
   "metadata": {},
   "outputs": [
    {
     "output_type": "stream",
     "name": "stdout",
     "text": [
      "[[''], ['h'], ['e'], ['l'], ['l'], ['o'], [''], ['w'], ['o'], ['r'], [' '], ['l'], ['d'], [' !'], [' '], [' '], ['', '']]\n[[''], ['h'], ['e'], ['l'], ['l'], ['o'], [''], ['w'], ['o'], ['r'], [' '], ['l'], ['d'], [' !'], [' '], [' '], ['', '']]\n"
     ]
    }
   ],
   "source": [
    "nrPairs = [list(p) for p in pairs]\n",
    "rPairs = [list(reversed(p)) for p in pairs]\n",
    "\n",
    "print(nrPairs)\n",
    "print(rPairs)"
   ]
  },
  {
   "cell_type": "code",
   "execution_count": null,
   "metadata": {},
   "outputs": [],
   "source": []
  },
  {
   "cell_type": "code",
   "execution_count": null,
   "metadata": {},
   "outputs": [],
   "source": []
  }
 ]
}